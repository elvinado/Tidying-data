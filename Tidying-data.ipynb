{
 "cells": [
  {
   "cell_type": "markdown",
   "metadata": {},
   "source": [
    "# Tidying data\n",
    "\n",
    "## Skills you will learn from this example may be as follow:\n",
    "1. Loading excel files to pandas dataframe\n",
    "2. Basics of slicing and other operation in pandas\n",
    "3. Using simple regex as pattern searching tool\n",
    "4. Creating a complex loops (5 layers deep)\n",
    "5. Quick and dirty plotting\n",
    "\n",
    "## Primary motivation is to transform excel tables into a tidy data as describe follows (based on Tidy Data Structure by Hadley Wickam):\n",
    "1. Each variable is a column (with uniform type format, ie. str, int, float)\n",
    "2. Each observation is a row\n",
    "3. Each type of observation unit has its own table\n",
    "\n",
    "## Our dummy data has properties as follows (all values are randomly generated):\n",
    "1. 2 types of material (A,B)\n",
    "2. 5 sizes of material (1\" - 5\")\n",
    "3. 2 frequencies subjected to the material\n",
    "4. 3 observation units (Alpha, Beta, Gamma)\n",
    "5. Physical configuration of material (A,B)"
   ]
  },
  {
   "cell_type": "markdown",
   "metadata": {},
   "source": [
    "## The original data\n",
    "![alt text](Table_A.PNG \"Title\")\n",
    "\n",
    "Notice that at the bottom of the excel there are intentional notes. These are to be excluded from tranformation"
   ]
  },
  {
   "cell_type": "markdown",
   "metadata": {},
   "source": [
    "### Importing neccesary modules"
   ]
  },
  {
   "cell_type": "code",
   "execution_count": 1,
   "metadata": {},
   "outputs": [],
   "source": [
    "import pandas as pd\n",
    "import numpy as np\n",
    "import matplotlib\n",
    "import matplotlib.pyplot as plt\n",
    "import re"
   ]
  },
  {
   "cell_type": "markdown",
   "metadata": {},
   "source": [
    "### Versions"
   ]
  },
  {
   "cell_type": "code",
   "execution_count": 2,
   "metadata": {},
   "outputs": [
    {
     "name": "stdout",
     "output_type": "stream",
     "text": [
      "Python 3.7.7\n"
     ]
    }
   ],
   "source": [
    "!python --version"
   ]
  },
  {
   "cell_type": "code",
   "execution_count": 3,
   "metadata": {},
   "outputs": [
    {
     "data": {
      "text/plain": [
       "'1.0.3'"
      ]
     },
     "execution_count": 3,
     "metadata": {},
     "output_type": "execute_result"
    }
   ],
   "source": [
    "pd.__version__"
   ]
  },
  {
   "cell_type": "code",
   "execution_count": 4,
   "metadata": {},
   "outputs": [
    {
     "data": {
      "text/plain": [
       "'1.18.1'"
      ]
     },
     "execution_count": 4,
     "metadata": {},
     "output_type": "execute_result"
    }
   ],
   "source": [
    "np.version.version"
   ]
  },
  {
   "cell_type": "code",
   "execution_count": 5,
   "metadata": {},
   "outputs": [
    {
     "data": {
      "text/plain": [
       "'3.1.3'"
      ]
     },
     "execution_count": 5,
     "metadata": {},
     "output_type": "execute_result"
    }
   ],
   "source": [
    "matplotlib.__version__"
   ]
  },
  {
   "cell_type": "code",
   "execution_count": 6,
   "metadata": {},
   "outputs": [
    {
     "data": {
      "text/plain": [
       "'2.2.1'"
      ]
     },
     "execution_count": 6,
     "metadata": {},
     "output_type": "execute_result"
    }
   ],
   "source": [
    "re.__version__"
   ]
  },
  {
   "cell_type": "markdown",
   "metadata": {},
   "source": [
    "### Reading excel file using pandas\n",
    "\n",
    "Here we ignore the header by setting **_header=None_** so we can manually deal with them"
   ]
  },
  {
   "cell_type": "code",
   "execution_count": 7,
   "metadata": {},
   "outputs": [],
   "source": [
    "# instantiate an excel object\n",
    "xl = pd.ExcelFile(\"Untidy Data.xlsx\")"
   ]
  },
  {
   "cell_type": "code",
   "execution_count": 8,
   "metadata": {},
   "outputs": [
    {
     "data": {
      "text/plain": [
       "['Config A', 'Config B']"
      ]
     },
     "execution_count": 8,
     "metadata": {},
     "output_type": "execute_result"
    }
   ],
   "source": [
    "# find out the all the available sheets\n",
    "xl.sheet_names"
   ]
  },
  {
   "cell_type": "code",
   "execution_count": 9,
   "metadata": {},
   "outputs": [],
   "source": [
    "config_a = xl.parse(xl.sheet_names[0],header=None)\n",
    "config_b = xl.parse(xl.sheet_names[1],header=None)"
   ]
  },
  {
   "cell_type": "code",
   "execution_count": 10,
   "metadata": {},
   "outputs": [
    {
     "data": {
      "text/html": [
       "<div>\n",
       "<style scoped>\n",
       "    .dataframe tbody tr th:only-of-type {\n",
       "        vertical-align: middle;\n",
       "    }\n",
       "\n",
       "    .dataframe tbody tr th {\n",
       "        vertical-align: top;\n",
       "    }\n",
       "\n",
       "    .dataframe thead th {\n",
       "        text-align: right;\n",
       "    }\n",
       "</style>\n",
       "<table border=\"1\" class=\"dataframe\">\n",
       "  <thead>\n",
       "    <tr style=\"text-align: right;\">\n",
       "      <th></th>\n",
       "      <th>0</th>\n",
       "      <th>1</th>\n",
       "      <th>2</th>\n",
       "      <th>3</th>\n",
       "      <th>4</th>\n",
       "      <th>5</th>\n",
       "      <th>6</th>\n",
       "      <th>7</th>\n",
       "      <th>8</th>\n",
       "      <th>9</th>\n",
       "      <th>...</th>\n",
       "      <th>21</th>\n",
       "      <th>22</th>\n",
       "      <th>23</th>\n",
       "      <th>24</th>\n",
       "      <th>25</th>\n",
       "      <th>26</th>\n",
       "      <th>27</th>\n",
       "      <th>28</th>\n",
       "      <th>29</th>\n",
       "      <th>30</th>\n",
       "    </tr>\n",
       "  </thead>\n",
       "  <tbody>\n",
       "    <tr>\n",
       "      <th>0</th>\n",
       "      <td>Material</td>\n",
       "      <td>Material A</td>\n",
       "      <td>NaN</td>\n",
       "      <td>NaN</td>\n",
       "      <td>NaN</td>\n",
       "      <td>NaN</td>\n",
       "      <td>NaN</td>\n",
       "      <td>NaN</td>\n",
       "      <td>NaN</td>\n",
       "      <td>NaN</td>\n",
       "      <td>...</td>\n",
       "      <td>NaN</td>\n",
       "      <td>NaN</td>\n",
       "      <td>NaN</td>\n",
       "      <td>NaN</td>\n",
       "      <td>NaN</td>\n",
       "      <td>NaN</td>\n",
       "      <td>NaN</td>\n",
       "      <td>NaN</td>\n",
       "      <td>NaN</td>\n",
       "      <td>NaN</td>\n",
       "    </tr>\n",
       "    <tr>\n",
       "      <th>1</th>\n",
       "      <td>Material Size</td>\n",
       "      <td>5\"</td>\n",
       "      <td>NaN</td>\n",
       "      <td>NaN</td>\n",
       "      <td>4\"</td>\n",
       "      <td>NaN</td>\n",
       "      <td>NaN</td>\n",
       "      <td>3\"</td>\n",
       "      <td>NaN</td>\n",
       "      <td>NaN</td>\n",
       "      <td>...</td>\n",
       "      <td>NaN</td>\n",
       "      <td>3\"</td>\n",
       "      <td>NaN</td>\n",
       "      <td>NaN</td>\n",
       "      <td>2\"</td>\n",
       "      <td>NaN</td>\n",
       "      <td>NaN</td>\n",
       "      <td>1\"</td>\n",
       "      <td>NaN</td>\n",
       "      <td>NaN</td>\n",
       "    </tr>\n",
       "    <tr>\n",
       "      <th>2</th>\n",
       "      <td>Frequency</td>\n",
       "      <td>Alpha</td>\n",
       "      <td>Beta</td>\n",
       "      <td>Gamma</td>\n",
       "      <td>Alpha</td>\n",
       "      <td>Beta</td>\n",
       "      <td>Gamma</td>\n",
       "      <td>Alpha</td>\n",
       "      <td>Beta</td>\n",
       "      <td>Gamma</td>\n",
       "      <td>...</td>\n",
       "      <td>Gamma</td>\n",
       "      <td>Alpha</td>\n",
       "      <td>Beta</td>\n",
       "      <td>Gamma</td>\n",
       "      <td>Alpha</td>\n",
       "      <td>Beta</td>\n",
       "      <td>Gamma</td>\n",
       "      <td>Alpha</td>\n",
       "      <td>Beta</td>\n",
       "      <td>Gamma</td>\n",
       "    </tr>\n",
       "    <tr>\n",
       "      <th>3</th>\n",
       "      <td>100hz</td>\n",
       "      <td>1.63979</td>\n",
       "      <td>1.23064</td>\n",
       "      <td>0.546146</td>\n",
       "      <td>1.8024</td>\n",
       "      <td>1.20586</td>\n",
       "      <td>0.908674</td>\n",
       "      <td>1.47175</td>\n",
       "      <td>1.02788</td>\n",
       "      <td>0.202751</td>\n",
       "      <td>...</td>\n",
       "      <td>1.07173</td>\n",
       "      <td>1.51893</td>\n",
       "      <td>1.24927</td>\n",
       "      <td>0.7348</td>\n",
       "      <td>1.95649</td>\n",
       "      <td>1.00976</td>\n",
       "      <td>0.161368</td>\n",
       "      <td>1.62851</td>\n",
       "      <td>1.7927</td>\n",
       "      <td>0.0654671</td>\n",
       "    </tr>\n",
       "    <tr>\n",
       "      <th>4</th>\n",
       "      <td>NaN</td>\n",
       "      <td>1.43973</td>\n",
       "      <td>1.08655</td>\n",
       "      <td>0.42743</td>\n",
       "      <td>2.03412</td>\n",
       "      <td>1.64013</td>\n",
       "      <td>0.869098</td>\n",
       "      <td>1.72981</td>\n",
       "      <td>1.67681</td>\n",
       "      <td>0.829409</td>\n",
       "      <td>...</td>\n",
       "      <td>0.30593</td>\n",
       "      <td>1.53473</td>\n",
       "      <td>1.67507</td>\n",
       "      <td>0.65072</td>\n",
       "      <td>1.60572</td>\n",
       "      <td>1.42838</td>\n",
       "      <td>0.817371</td>\n",
       "      <td>1.70092</td>\n",
       "      <td>1.18878</td>\n",
       "      <td>0.619278</td>\n",
       "    </tr>\n",
       "  </tbody>\n",
       "</table>\n",
       "<p>5 rows × 31 columns</p>\n",
       "</div>"
      ],
      "text/plain": [
       "              0           1        2         3        4        5         6   \\\n",
       "0       Material  Material A      NaN       NaN      NaN      NaN       NaN   \n",
       "1  Material Size          5\"      NaN       NaN       4\"      NaN       NaN   \n",
       "2      Frequency       Alpha     Beta     Gamma    Alpha     Beta     Gamma   \n",
       "3          100hz     1.63979  1.23064  0.546146   1.8024  1.20586  0.908674   \n",
       "4            NaN     1.43973  1.08655   0.42743  2.03412  1.64013  0.869098   \n",
       "\n",
       "        7        8         9   ...       21       22       23       24  \\\n",
       "0      NaN      NaN       NaN  ...      NaN      NaN      NaN      NaN   \n",
       "1       3\"      NaN       NaN  ...      NaN       3\"      NaN      NaN   \n",
       "2    Alpha     Beta     Gamma  ...    Gamma    Alpha     Beta    Gamma   \n",
       "3  1.47175  1.02788  0.202751  ...  1.07173  1.51893  1.24927   0.7348   \n",
       "4  1.72981  1.67681  0.829409  ...  0.30593  1.53473  1.67507  0.65072   \n",
       "\n",
       "        25       26        27       28       29         30  \n",
       "0      NaN      NaN       NaN      NaN      NaN        NaN  \n",
       "1       2\"      NaN       NaN       1\"      NaN        NaN  \n",
       "2    Alpha     Beta     Gamma    Alpha     Beta      Gamma  \n",
       "3  1.95649  1.00976  0.161368  1.62851   1.7927  0.0654671  \n",
       "4  1.60572  1.42838  0.817371  1.70092  1.18878   0.619278  \n",
       "\n",
       "[5 rows x 31 columns]"
      ]
     },
     "execution_count": 10,
     "metadata": {},
     "output_type": "execute_result"
    }
   ],
   "source": [
    "config_a.head()"
   ]
  },
  {
   "cell_type": "code",
   "execution_count": 11,
   "metadata": {},
   "outputs": [
    {
     "name": "stdout",
     "output_type": "stream",
     "text": [
      "Config A shape: (36, 31)\n",
      "Config B shape: (21, 31)\n"
     ]
    }
   ],
   "source": [
    "print(f\"Config A shape: {config_a.shape}\\nConfig B shape: {config_b.shape}\")"
   ]
  },
  {
   "cell_type": "markdown",
   "metadata": {},
   "source": [
    "Extra notes in Config A sheet causes it to have more rows."
   ]
  },
  {
   "cell_type": "code",
   "execution_count": 12,
   "metadata": {},
   "outputs": [
    {
     "data": {
      "text/html": [
       "<div>\n",
       "<style scoped>\n",
       "    .dataframe tbody tr th:only-of-type {\n",
       "        vertical-align: middle;\n",
       "    }\n",
       "\n",
       "    .dataframe tbody tr th {\n",
       "        vertical-align: top;\n",
       "    }\n",
       "\n",
       "    .dataframe thead th {\n",
       "        text-align: right;\n",
       "    }\n",
       "</style>\n",
       "<table border=\"1\" class=\"dataframe\">\n",
       "  <thead>\n",
       "    <tr style=\"text-align: right;\">\n",
       "      <th></th>\n",
       "      <th>0</th>\n",
       "      <th>1</th>\n",
       "      <th>2</th>\n",
       "      <th>3</th>\n",
       "      <th>4</th>\n",
       "      <th>5</th>\n",
       "      <th>6</th>\n",
       "      <th>7</th>\n",
       "      <th>8</th>\n",
       "      <th>9</th>\n",
       "      <th>...</th>\n",
       "      <th>21</th>\n",
       "      <th>22</th>\n",
       "      <th>23</th>\n",
       "      <th>24</th>\n",
       "      <th>25</th>\n",
       "      <th>26</th>\n",
       "      <th>27</th>\n",
       "      <th>28</th>\n",
       "      <th>29</th>\n",
       "      <th>30</th>\n",
       "    </tr>\n",
       "  </thead>\n",
       "  <tbody>\n",
       "    <tr>\n",
       "      <th>31</th>\n",
       "      <td>NaN</td>\n",
       "      <td>NaN</td>\n",
       "      <td>NaN</td>\n",
       "      <td>NaN</td>\n",
       "      <td>NaN</td>\n",
       "      <td>NaN</td>\n",
       "      <td>NaN</td>\n",
       "      <td>NaN</td>\n",
       "      <td>NaN</td>\n",
       "      <td>NaN</td>\n",
       "      <td>...</td>\n",
       "      <td>NaN</td>\n",
       "      <td>NaN</td>\n",
       "      <td>NaN</td>\n",
       "      <td>NaN</td>\n",
       "      <td>NaN</td>\n",
       "      <td>NaN</td>\n",
       "      <td>NaN</td>\n",
       "      <td>NaN</td>\n",
       "      <td>NaN</td>\n",
       "      <td>NaN</td>\n",
       "    </tr>\n",
       "    <tr>\n",
       "      <th>32</th>\n",
       "      <td>Tidy Data Structure by Hadley Wickam</td>\n",
       "      <td>NaN</td>\n",
       "      <td>NaN</td>\n",
       "      <td>NaN</td>\n",
       "      <td>NaN</td>\n",
       "      <td>NaN</td>\n",
       "      <td>NaN</td>\n",
       "      <td>NaN</td>\n",
       "      <td>NaN</td>\n",
       "      <td>NaN</td>\n",
       "      <td>...</td>\n",
       "      <td>NaN</td>\n",
       "      <td>NaN</td>\n",
       "      <td>NaN</td>\n",
       "      <td>NaN</td>\n",
       "      <td>NaN</td>\n",
       "      <td>NaN</td>\n",
       "      <td>NaN</td>\n",
       "      <td>NaN</td>\n",
       "      <td>NaN</td>\n",
       "      <td>NaN</td>\n",
       "    </tr>\n",
       "    <tr>\n",
       "      <th>33</th>\n",
       "      <td>each variable is a column</td>\n",
       "      <td>NaN</td>\n",
       "      <td>NaN</td>\n",
       "      <td>NaN</td>\n",
       "      <td>NaN</td>\n",
       "      <td>NaN</td>\n",
       "      <td>NaN</td>\n",
       "      <td>NaN</td>\n",
       "      <td>NaN</td>\n",
       "      <td>NaN</td>\n",
       "      <td>...</td>\n",
       "      <td>NaN</td>\n",
       "      <td>NaN</td>\n",
       "      <td>NaN</td>\n",
       "      <td>NaN</td>\n",
       "      <td>NaN</td>\n",
       "      <td>NaN</td>\n",
       "      <td>NaN</td>\n",
       "      <td>NaN</td>\n",
       "      <td>NaN</td>\n",
       "      <td>NaN</td>\n",
       "    </tr>\n",
       "    <tr>\n",
       "      <th>34</th>\n",
       "      <td>each observation is a row</td>\n",
       "      <td>NaN</td>\n",
       "      <td>NaN</td>\n",
       "      <td>NaN</td>\n",
       "      <td>NaN</td>\n",
       "      <td>NaN</td>\n",
       "      <td>NaN</td>\n",
       "      <td>NaN</td>\n",
       "      <td>NaN</td>\n",
       "      <td>NaN</td>\n",
       "      <td>...</td>\n",
       "      <td>NaN</td>\n",
       "      <td>NaN</td>\n",
       "      <td>NaN</td>\n",
       "      <td>NaN</td>\n",
       "      <td>NaN</td>\n",
       "      <td>NaN</td>\n",
       "      <td>NaN</td>\n",
       "      <td>NaN</td>\n",
       "      <td>NaN</td>\n",
       "      <td>NaN</td>\n",
       "    </tr>\n",
       "    <tr>\n",
       "      <th>35</th>\n",
       "      <td>each type of observational unit is a table</td>\n",
       "      <td>NaN</td>\n",
       "      <td>NaN</td>\n",
       "      <td>NaN</td>\n",
       "      <td>NaN</td>\n",
       "      <td>NaN</td>\n",
       "      <td>NaN</td>\n",
       "      <td>NaN</td>\n",
       "      <td>NaN</td>\n",
       "      <td>NaN</td>\n",
       "      <td>...</td>\n",
       "      <td>NaN</td>\n",
       "      <td>NaN</td>\n",
       "      <td>NaN</td>\n",
       "      <td>NaN</td>\n",
       "      <td>NaN</td>\n",
       "      <td>NaN</td>\n",
       "      <td>NaN</td>\n",
       "      <td>NaN</td>\n",
       "      <td>NaN</td>\n",
       "      <td>NaN</td>\n",
       "    </tr>\n",
       "  </tbody>\n",
       "</table>\n",
       "<p>5 rows × 31 columns</p>\n",
       "</div>"
      ],
      "text/plain": [
       "                                            0    1    2    3    4    5    6   \\\n",
       "31                                         NaN  NaN  NaN  NaN  NaN  NaN  NaN   \n",
       "32        Tidy Data Structure by Hadley Wickam  NaN  NaN  NaN  NaN  NaN  NaN   \n",
       "33                   each variable is a column  NaN  NaN  NaN  NaN  NaN  NaN   \n",
       "34                   each observation is a row  NaN  NaN  NaN  NaN  NaN  NaN   \n",
       "35  each type of observational unit is a table  NaN  NaN  NaN  NaN  NaN  NaN   \n",
       "\n",
       "     7    8    9   ...   21   22   23   24   25   26   27   28   29   30  \n",
       "31  NaN  NaN  NaN  ...  NaN  NaN  NaN  NaN  NaN  NaN  NaN  NaN  NaN  NaN  \n",
       "32  NaN  NaN  NaN  ...  NaN  NaN  NaN  NaN  NaN  NaN  NaN  NaN  NaN  NaN  \n",
       "33  NaN  NaN  NaN  ...  NaN  NaN  NaN  NaN  NaN  NaN  NaN  NaN  NaN  NaN  \n",
       "34  NaN  NaN  NaN  ...  NaN  NaN  NaN  NaN  NaN  NaN  NaN  NaN  NaN  NaN  \n",
       "35  NaN  NaN  NaN  ...  NaN  NaN  NaN  NaN  NaN  NaN  NaN  NaN  NaN  NaN  \n",
       "\n",
       "[5 rows x 31 columns]"
      ]
     },
     "execution_count": 12,
     "metadata": {},
     "output_type": "execute_result"
    }
   ],
   "source": [
    "# checking the last 5 rows of the dataframe\n",
    "config_a.tail()"
   ]
  },
  {
   "cell_type": "markdown",
   "metadata": {},
   "source": [
    "We'll make it better by limiting the rows during loading"
   ]
  },
  {
   "cell_type": "code",
   "execution_count": 13,
   "metadata": {},
   "outputs": [
    {
     "data": {
      "text/html": [
       "<div>\n",
       "<style scoped>\n",
       "    .dataframe tbody tr th:only-of-type {\n",
       "        vertical-align: middle;\n",
       "    }\n",
       "\n",
       "    .dataframe tbody tr th {\n",
       "        vertical-align: top;\n",
       "    }\n",
       "\n",
       "    .dataframe thead th {\n",
       "        text-align: right;\n",
       "    }\n",
       "</style>\n",
       "<table border=\"1\" class=\"dataframe\">\n",
       "  <thead>\n",
       "    <tr style=\"text-align: right;\">\n",
       "      <th></th>\n",
       "      <th>0</th>\n",
       "      <th>1</th>\n",
       "      <th>2</th>\n",
       "      <th>3</th>\n",
       "      <th>4</th>\n",
       "      <th>5</th>\n",
       "      <th>6</th>\n",
       "      <th>7</th>\n",
       "      <th>8</th>\n",
       "      <th>9</th>\n",
       "      <th>...</th>\n",
       "      <th>21</th>\n",
       "      <th>22</th>\n",
       "      <th>23</th>\n",
       "      <th>24</th>\n",
       "      <th>25</th>\n",
       "      <th>26</th>\n",
       "      <th>27</th>\n",
       "      <th>28</th>\n",
       "      <th>29</th>\n",
       "      <th>30</th>\n",
       "    </tr>\n",
       "  </thead>\n",
       "  <tbody>\n",
       "    <tr>\n",
       "      <th>16</th>\n",
       "      <td>NaN</td>\n",
       "      <td>2.3537</td>\n",
       "      <td>1.13067</td>\n",
       "      <td>0.314388</td>\n",
       "      <td>1.61681</td>\n",
       "      <td>1.47694</td>\n",
       "      <td>1.0762</td>\n",
       "      <td>2.31293</td>\n",
       "      <td>1.0814</td>\n",
       "      <td>0.859512</td>\n",
       "      <td>...</td>\n",
       "      <td>1.16537</td>\n",
       "      <td>2.55598</td>\n",
       "      <td>1.13292</td>\n",
       "      <td>0.198101</td>\n",
       "      <td>1.87178</td>\n",
       "      <td>1.15424</td>\n",
       "      <td>0.383076</td>\n",
       "      <td>2.61727</td>\n",
       "      <td>1.89962</td>\n",
       "      <td>0.947251</td>\n",
       "    </tr>\n",
       "    <tr>\n",
       "      <th>17</th>\n",
       "      <td>NaN</td>\n",
       "      <td>2.0719</td>\n",
       "      <td>1.07198</td>\n",
       "      <td>0.93679</td>\n",
       "      <td>1.95104</td>\n",
       "      <td>1.06179</td>\n",
       "      <td>0.361847</td>\n",
       "      <td>2.01105</td>\n",
       "      <td>1.79089</td>\n",
       "      <td>0.176239</td>\n",
       "      <td>...</td>\n",
       "      <td>0.515545</td>\n",
       "      <td>2.12704</td>\n",
       "      <td>0.955811</td>\n",
       "      <td>0.679336</td>\n",
       "      <td>2.03949</td>\n",
       "      <td>0.952965</td>\n",
       "      <td>0.326725</td>\n",
       "      <td>2.77964</td>\n",
       "      <td>1.65215</td>\n",
       "      <td>0.904136</td>\n",
       "    </tr>\n",
       "    <tr>\n",
       "      <th>18</th>\n",
       "      <td>NaN</td>\n",
       "      <td>2.41735</td>\n",
       "      <td>1.25517</td>\n",
       "      <td>0.989605</td>\n",
       "      <td>1.96966</td>\n",
       "      <td>1.38293</td>\n",
       "      <td>0.420835</td>\n",
       "      <td>2.91429</td>\n",
       "      <td>1.15701</td>\n",
       "      <td>0.246095</td>\n",
       "      <td>...</td>\n",
       "      <td>0.850908</td>\n",
       "      <td>2.04811</td>\n",
       "      <td>1.44549</td>\n",
       "      <td>0.34588</td>\n",
       "      <td>3.06417</td>\n",
       "      <td>1.58788</td>\n",
       "      <td>0.266243</td>\n",
       "      <td>2.51453</td>\n",
       "      <td>1.0942</td>\n",
       "      <td>0.904514</td>\n",
       "    </tr>\n",
       "    <tr>\n",
       "      <th>19</th>\n",
       "      <td>NaN</td>\n",
       "      <td>3.12287</td>\n",
       "      <td>1.40346</td>\n",
       "      <td>1.20484</td>\n",
       "      <td>2.20782</td>\n",
       "      <td>1.27301</td>\n",
       "      <td>0.503028</td>\n",
       "      <td>2.58789</td>\n",
       "      <td>1.73009</td>\n",
       "      <td>0.980651</td>\n",
       "      <td>...</td>\n",
       "      <td>0.753408</td>\n",
       "      <td>2.67149</td>\n",
       "      <td>1.17502</td>\n",
       "      <td>0.661362</td>\n",
       "      <td>3.39722</td>\n",
       "      <td>1.50133</td>\n",
       "      <td>0.416697</td>\n",
       "      <td>2.80905</td>\n",
       "      <td>1.59627</td>\n",
       "      <td>0.830201</td>\n",
       "    </tr>\n",
       "    <tr>\n",
       "      <th>20</th>\n",
       "      <td>NaN</td>\n",
       "      <td>0.787528</td>\n",
       "      <td>0.271732</td>\n",
       "      <td>0.467563</td>\n",
       "      <td>2.49309</td>\n",
       "      <td>0.976058</td>\n",
       "      <td>1.18161</td>\n",
       "      <td>0.693866</td>\n",
       "      <td>0.742667</td>\n",
       "      <td>0.241835</td>\n",
       "      <td>...</td>\n",
       "      <td>0.41265</td>\n",
       "      <td>0.0520008</td>\n",
       "      <td>0.971672</td>\n",
       "      <td>0.289244</td>\n",
       "      <td>0.52008</td>\n",
       "      <td>0.565746</td>\n",
       "      <td>0.831431</td>\n",
       "      <td>0.632895</td>\n",
       "      <td>0.561253</td>\n",
       "      <td>0.924035</td>\n",
       "    </tr>\n",
       "  </tbody>\n",
       "</table>\n",
       "<p>5 rows × 31 columns</p>\n",
       "</div>"
      ],
      "text/plain": [
       "     0         1         2         3        4         5         6         7   \\\n",
       "16  NaN    2.3537   1.13067  0.314388  1.61681   1.47694    1.0762   2.31293   \n",
       "17  NaN    2.0719   1.07198   0.93679  1.95104   1.06179  0.361847   2.01105   \n",
       "18  NaN   2.41735   1.25517  0.989605  1.96966   1.38293  0.420835   2.91429   \n",
       "19  NaN   3.12287   1.40346   1.20484  2.20782   1.27301  0.503028   2.58789   \n",
       "20  NaN  0.787528  0.271732  0.467563  2.49309  0.976058   1.18161  0.693866   \n",
       "\n",
       "          8         9   ...        21         22        23        24       25  \\\n",
       "16    1.0814  0.859512  ...   1.16537    2.55598   1.13292  0.198101  1.87178   \n",
       "17   1.79089  0.176239  ...  0.515545    2.12704  0.955811  0.679336  2.03949   \n",
       "18   1.15701  0.246095  ...  0.850908    2.04811   1.44549   0.34588  3.06417   \n",
       "19   1.73009  0.980651  ...  0.753408    2.67149   1.17502  0.661362  3.39722   \n",
       "20  0.742667  0.241835  ...   0.41265  0.0520008  0.971672  0.289244  0.52008   \n",
       "\n",
       "          26        27        28        29        30  \n",
       "16   1.15424  0.383076   2.61727   1.89962  0.947251  \n",
       "17  0.952965  0.326725   2.77964   1.65215  0.904136  \n",
       "18   1.58788  0.266243   2.51453    1.0942  0.904514  \n",
       "19   1.50133  0.416697   2.80905   1.59627  0.830201  \n",
       "20  0.565746  0.831431  0.632895  0.561253  0.924035  \n",
       "\n",
       "[5 rows x 31 columns]"
      ]
     },
     "execution_count": 13,
     "metadata": {},
     "output_type": "execute_result"
    }
   ],
   "source": [
    "# Alternative way to read excel. Here we limit to 21 rows\n",
    "config_a = pd.read_excel(\"Untidy Data.xlsx\",\"Config A\",header=None,nrows=21)\n",
    "config_a.tail()"
   ]
  },
  {
   "cell_type": "markdown",
   "metadata": {},
   "source": [
    "# Tranformation processes"
   ]
  },
  {
   "cell_type": "markdown",
   "metadata": {},
   "source": [
    "# A. Extract dimensions info using regular expression\n",
    "\n",
    "A good reason to use regex pattern instead of extracting by hard coding is flexibility if any additional dimensions were to be added in the future dataset"
   ]
  },
  {
   "cell_type": "markdown",
   "metadata": {},
   "source": [
    "### 1. Types of Material\n",
    "\n",
    "Located at 0th row"
   ]
  },
  {
   "cell_type": "code",
   "execution_count": 14,
   "metadata": {},
   "outputs": [
    {
     "data": {
      "text/plain": [
       "array(['Material', 'Material A', 'Material Bbb'], dtype=object)"
      ]
     },
     "execution_count": 14,
     "metadata": {},
     "output_type": "execute_result"
    }
   ],
   "source": [
    "temp = config_a.iloc[0].dropna().unique()\n",
    "temp"
   ]
  },
  {
   "cell_type": "code",
   "execution_count": 15,
   "metadata": {},
   "outputs": [
    {
     "data": {
      "text/plain": [
       "array(['Material A', 'Material Bbb'], dtype=object)"
      ]
     },
     "execution_count": 15,
     "metadata": {},
     "output_type": "execute_result"
    }
   ],
   "source": [
    "# drop the first column\n",
    "temp = temp[1:]\n",
    "temp"
   ]
  },
  {
   "cell_type": "code",
   "execution_count": 16,
   "metadata": {},
   "outputs": [
    {
     "data": {
      "text/plain": [
       "['A', 'Bbb']"
      ]
     },
     "execution_count": 16,
     "metadata": {},
     "output_type": "execute_result"
    }
   ],
   "source": [
    "pattern = \"Material (\\S+)\"\n",
    "# List comprehension searching the pattern in each values\n",
    "materials = [re.search(pattern,t).group(1) for t in temp]\n",
    "materials"
   ]
  },
  {
   "cell_type": "markdown",
   "metadata": {},
   "source": [
    "### 2. Size of Material\n",
    "\n",
    "Located at 1st row"
   ]
  },
  {
   "cell_type": "code",
   "execution_count": 17,
   "metadata": {},
   "outputs": [
    {
     "data": {
      "text/plain": [
       "array(['Material Size', '5\"', '4\"', '3\"', '2\"', '1\"'], dtype=object)"
      ]
     },
     "execution_count": 17,
     "metadata": {},
     "output_type": "execute_result"
    }
   ],
   "source": [
    "temp = config_a.iloc[1].dropna().unique()\n",
    "temp"
   ]
  },
  {
   "cell_type": "code",
   "execution_count": 18,
   "metadata": {},
   "outputs": [
    {
     "data": {
      "text/plain": [
       "array(['5\"', '4\"', '3\"', '2\"', '1\"'], dtype=object)"
      ]
     },
     "execution_count": 18,
     "metadata": {},
     "output_type": "execute_result"
    }
   ],
   "source": [
    "# drop the first column\n",
    "temp = temp[1:]\n",
    "temp"
   ]
  },
  {
   "cell_type": "code",
   "execution_count": 19,
   "metadata": {},
   "outputs": [
    {
     "data": {
      "text/plain": [
       "[5, 4, 3, 2, 1]"
      ]
     },
     "execution_count": 19,
     "metadata": {},
     "output_type": "execute_result"
    }
   ],
   "source": [
    "pattern = \"(\\d+)\\\"\"\n",
    "# List comprehension searching the pattern in each values\n",
    "sizes = [re.search(pattern,t).group(1) for t in temp]\n",
    "# convert to interger\n",
    "sizes = [int(size) for size in sizes]\n",
    "sizes"
   ]
  },
  {
   "cell_type": "markdown",
   "metadata": {},
   "source": [
    "### 3. Frequencies\n",
    "\n",
    "Located at 0th column"
   ]
  },
  {
   "cell_type": "code",
   "execution_count": 20,
   "metadata": {},
   "outputs": [
    {
     "data": {
      "text/plain": [
       "array(['Material', 'Material Size', 'Frequency', '100hz', '500hz'],\n",
       "      dtype=object)"
      ]
     },
     "execution_count": 20,
     "metadata": {},
     "output_type": "execute_result"
    }
   ],
   "source": [
    "temp = config_a[0].dropna().unique()\n",
    "temp"
   ]
  },
  {
   "cell_type": "code",
   "execution_count": 21,
   "metadata": {},
   "outputs": [
    {
     "data": {
      "text/plain": [
       "array(['100hz', '500hz'], dtype=object)"
      ]
     },
     "execution_count": 21,
     "metadata": {},
     "output_type": "execute_result"
    }
   ],
   "source": [
    "# only take the last 2 columns\n",
    "temp = temp[-2:]\n",
    "temp"
   ]
  },
  {
   "cell_type": "code",
   "execution_count": 22,
   "metadata": {},
   "outputs": [
    {
     "data": {
      "text/plain": [
       "[100, 500]"
      ]
     },
     "execution_count": 22,
     "metadata": {},
     "output_type": "execute_result"
    }
   ],
   "source": [
    "pattern = \"(\\d+)hz\"\n",
    "# List comprehension searching the pattern in each values\n",
    "frequencies = [re.search(pattern,t).group(1) for t in temp]\n",
    "# convert to interger\n",
    "frequencies = [int(f) for f in frequencies]\n",
    "frequencies"
   ]
  },
  {
   "cell_type": "markdown",
   "metadata": {},
   "source": [
    "### 4. Observation Units\n",
    "\n",
    "Located at 2nd row"
   ]
  },
  {
   "cell_type": "code",
   "execution_count": 23,
   "metadata": {},
   "outputs": [
    {
     "data": {
      "text/plain": [
       "array(['Frequency', 'Alpha', 'Beta', 'Gamma'], dtype=object)"
      ]
     },
     "execution_count": 23,
     "metadata": {},
     "output_type": "execute_result"
    }
   ],
   "source": [
    "temp = config_a.iloc[2].dropna().unique()\n",
    "temp"
   ]
  },
  {
   "cell_type": "code",
   "execution_count": 24,
   "metadata": {},
   "outputs": [
    {
     "data": {
      "text/plain": [
       "array(['Alpha', 'Beta', 'Gamma'], dtype=object)"
      ]
     },
     "execution_count": 24,
     "metadata": {},
     "output_type": "execute_result"
    }
   ],
   "source": [
    "# drop the first column\n",
    "temp = temp[1:]\n",
    "temp"
   ]
  },
  {
   "cell_type": "code",
   "execution_count": 25,
   "metadata": {},
   "outputs": [
    {
     "data": {
      "text/plain": [
       "['Alpha', 'Beta', 'Gamma']"
      ]
     },
     "execution_count": 25,
     "metadata": {},
     "output_type": "execute_result"
    }
   ],
   "source": [
    "# for consitency purposes just convert the numpy array into python list\n",
    "observations = temp.tolist()\n",
    "observations"
   ]
  },
  {
   "cell_type": "markdown",
   "metadata": {},
   "source": [
    "### 5. Configuration Name\n",
    "\n",
    "Located in the sheet names"
   ]
  },
  {
   "cell_type": "code",
   "execution_count": 26,
   "metadata": {},
   "outputs": [
    {
     "data": {
      "text/plain": [
       "['Config A', 'Config B']"
      ]
     },
     "execution_count": 26,
     "metadata": {},
     "output_type": "execute_result"
    }
   ],
   "source": [
    "configs = xl.sheet_names\n",
    "configs"
   ]
  },
  {
   "cell_type": "markdown",
   "metadata": {},
   "source": [
    "# B. Designing an empty dataframe to be filled later\n",
    "\n",
    "Our columns are going to be dimensions of material, frequency, size, configuration, as well as three observations units.\n",
    "\n",
    "The observation units can later on be separated into 3 separate table if needed."
   ]
  },
  {
   "cell_type": "code",
   "execution_count": 27,
   "metadata": {},
   "outputs": [
    {
     "data": {
      "text/plain": [
       "Index(['Configuration', 'Material', 'Frequency', 'Size', 'Alpha', 'Beta',\n",
       "       'Gamma'],\n",
       "      dtype='object')"
      ]
     },
     "execution_count": 27,
     "metadata": {},
     "output_type": "execute_result"
    }
   ],
   "source": [
    "dimensions = [\"Configuration\",\"Material\",\"Frequency\",\"Size\"]\n",
    "df = pd.DataFrame(columns = dimensions + observations)\n",
    "df.columns"
   ]
  },
  {
   "cell_type": "markdown",
   "metadata": {},
   "source": [
    "# C. Actual extraction of the data"
   ]
  },
  {
   "cell_type": "code",
   "execution_count": 28,
   "metadata": {},
   "outputs": [
    {
     "data": {
      "text/html": [
       "<div>\n",
       "<style scoped>\n",
       "    .dataframe tbody tr th:only-of-type {\n",
       "        vertical-align: middle;\n",
       "    }\n",
       "\n",
       "    .dataframe tbody tr th {\n",
       "        vertical-align: top;\n",
       "    }\n",
       "\n",
       "    .dataframe thead th {\n",
       "        text-align: right;\n",
       "    }\n",
       "</style>\n",
       "<table border=\"1\" class=\"dataframe\">\n",
       "  <thead>\n",
       "    <tr style=\"text-align: right;\">\n",
       "      <th></th>\n",
       "      <th>0</th>\n",
       "      <th>1</th>\n",
       "      <th>2</th>\n",
       "      <th>3</th>\n",
       "      <th>4</th>\n",
       "      <th>5</th>\n",
       "      <th>6</th>\n",
       "      <th>7</th>\n",
       "      <th>8</th>\n",
       "      <th>9</th>\n",
       "      <th>10</th>\n",
       "      <th>11</th>\n",
       "      <th>12</th>\n",
       "      <th>13</th>\n",
       "      <th>14</th>\n",
       "      <th>15</th>\n",
       "    </tr>\n",
       "  </thead>\n",
       "  <tbody>\n",
       "    <tr>\n",
       "      <th>0</th>\n",
       "      <td>Material</td>\n",
       "      <td>Material A</td>\n",
       "      <td>NaN</td>\n",
       "      <td>NaN</td>\n",
       "      <td>NaN</td>\n",
       "      <td>NaN</td>\n",
       "      <td>NaN</td>\n",
       "      <td>NaN</td>\n",
       "      <td>NaN</td>\n",
       "      <td>NaN</td>\n",
       "      <td>NaN</td>\n",
       "      <td>NaN</td>\n",
       "      <td>NaN</td>\n",
       "      <td>NaN</td>\n",
       "      <td>NaN</td>\n",
       "      <td>NaN</td>\n",
       "    </tr>\n",
       "    <tr>\n",
       "      <th>1</th>\n",
       "      <td>Material Size</td>\n",
       "      <td>5\"</td>\n",
       "      <td>NaN</td>\n",
       "      <td>NaN</td>\n",
       "      <td>4\"</td>\n",
       "      <td>NaN</td>\n",
       "      <td>NaN</td>\n",
       "      <td>3\"</td>\n",
       "      <td>NaN</td>\n",
       "      <td>NaN</td>\n",
       "      <td>2\"</td>\n",
       "      <td>NaN</td>\n",
       "      <td>NaN</td>\n",
       "      <td>1\"</td>\n",
       "      <td>NaN</td>\n",
       "      <td>NaN</td>\n",
       "    </tr>\n",
       "    <tr>\n",
       "      <th>2</th>\n",
       "      <td>Frequency</td>\n",
       "      <td>Alpha</td>\n",
       "      <td>Beta</td>\n",
       "      <td>Gamma</td>\n",
       "      <td>Alpha</td>\n",
       "      <td>Beta</td>\n",
       "      <td>Gamma</td>\n",
       "      <td>Alpha</td>\n",
       "      <td>Beta</td>\n",
       "      <td>Gamma</td>\n",
       "      <td>Alpha</td>\n",
       "      <td>Beta</td>\n",
       "      <td>Gamma</td>\n",
       "      <td>Alpha</td>\n",
       "      <td>Beta</td>\n",
       "      <td>Gamma</td>\n",
       "    </tr>\n",
       "    <tr>\n",
       "      <th>3</th>\n",
       "      <td>100hz</td>\n",
       "      <td>1.63979</td>\n",
       "      <td>1.23064</td>\n",
       "      <td>0.546146</td>\n",
       "      <td>1.8024</td>\n",
       "      <td>1.20586</td>\n",
       "      <td>0.908674</td>\n",
       "      <td>1.47175</td>\n",
       "      <td>1.02788</td>\n",
       "      <td>0.202751</td>\n",
       "      <td>1.69438</td>\n",
       "      <td>1.79287</td>\n",
       "      <td>0.265586</td>\n",
       "      <td>1.61428</td>\n",
       "      <td>1.11722</td>\n",
       "      <td>0.697438</td>\n",
       "    </tr>\n",
       "    <tr>\n",
       "      <th>4</th>\n",
       "      <td>NaN</td>\n",
       "      <td>1.43973</td>\n",
       "      <td>1.08655</td>\n",
       "      <td>0.42743</td>\n",
       "      <td>2.03412</td>\n",
       "      <td>1.64013</td>\n",
       "      <td>0.869098</td>\n",
       "      <td>1.72981</td>\n",
       "      <td>1.67681</td>\n",
       "      <td>0.829409</td>\n",
       "      <td>1.71648</td>\n",
       "      <td>1.53832</td>\n",
       "      <td>0.749897</td>\n",
       "      <td>1.51539</td>\n",
       "      <td>1.46082</td>\n",
       "      <td>0.91155</td>\n",
       "    </tr>\n",
       "    <tr>\n",
       "      <th>5</th>\n",
       "      <td>NaN</td>\n",
       "      <td>1.72444</td>\n",
       "      <td>1.82838</td>\n",
       "      <td>1.03605</td>\n",
       "      <td>1.4679</td>\n",
       "      <td>1.16716</td>\n",
       "      <td>0.532573</td>\n",
       "      <td>1.96699</td>\n",
       "      <td>0.957607</td>\n",
       "      <td>0.787029</td>\n",
       "      <td>1.61331</td>\n",
       "      <td>1.81509</td>\n",
       "      <td>0.977464</td>\n",
       "      <td>2.10348</td>\n",
       "      <td>1.39297</td>\n",
       "      <td>0.340688</td>\n",
       "    </tr>\n",
       "    <tr>\n",
       "      <th>6</th>\n",
       "      <td>NaN</td>\n",
       "      <td>1.99982</td>\n",
       "      <td>1.27655</td>\n",
       "      <td>0.905647</td>\n",
       "      <td>2.11091</td>\n",
       "      <td>1.664</td>\n",
       "      <td>0.830074</td>\n",
       "      <td>2.33153</td>\n",
       "      <td>1.71367</td>\n",
       "      <td>0.818765</td>\n",
       "      <td>2.22315</td>\n",
       "      <td>1.24828</td>\n",
       "      <td>0.685668</td>\n",
       "      <td>2.36889</td>\n",
       "      <td>1.33599</td>\n",
       "      <td>0.515974</td>\n",
       "    </tr>\n",
       "    <tr>\n",
       "      <th>7</th>\n",
       "      <td>NaN</td>\n",
       "      <td>1.80882</td>\n",
       "      <td>1.05065</td>\n",
       "      <td>0.549558</td>\n",
       "      <td>2.51533</td>\n",
       "      <td>0.938052</td>\n",
       "      <td>0.124567</td>\n",
       "      <td>2.15947</td>\n",
       "      <td>1.79579</td>\n",
       "      <td>0.535714</td>\n",
       "      <td>2.01288</td>\n",
       "      <td>0.95355</td>\n",
       "      <td>1.01142</td>\n",
       "      <td>2.45643</td>\n",
       "      <td>1.94351</td>\n",
       "      <td>0.416589</td>\n",
       "    </tr>\n",
       "    <tr>\n",
       "      <th>8</th>\n",
       "      <td>NaN</td>\n",
       "      <td>2.77804</td>\n",
       "      <td>1.42155</td>\n",
       "      <td>0.481491</td>\n",
       "      <td>2.47751</td>\n",
       "      <td>0.980929</td>\n",
       "      <td>0.456643</td>\n",
       "      <td>2.15593</td>\n",
       "      <td>1.0547</td>\n",
       "      <td>0.791149</td>\n",
       "      <td>2.21864</td>\n",
       "      <td>1.51322</td>\n",
       "      <td>0.897828</td>\n",
       "      <td>2.60217</td>\n",
       "      <td>1.6912</td>\n",
       "      <td>0.856099</td>\n",
       "    </tr>\n",
       "    <tr>\n",
       "      <th>9</th>\n",
       "      <td>NaN</td>\n",
       "      <td>2.12713</td>\n",
       "      <td>1.59421</td>\n",
       "      <td>0.921837</td>\n",
       "      <td>2.5345</td>\n",
       "      <td>1.01763</td>\n",
       "      <td>0.974847</td>\n",
       "      <td>2.36729</td>\n",
       "      <td>0.998858</td>\n",
       "      <td>0.395988</td>\n",
       "      <td>2.53525</td>\n",
       "      <td>0.985286</td>\n",
       "      <td>0.20583</td>\n",
       "      <td>2.92889</td>\n",
       "      <td>1.64869</td>\n",
       "      <td>0.424832</td>\n",
       "    </tr>\n",
       "    <tr>\n",
       "      <th>10</th>\n",
       "      <td>NaN</td>\n",
       "      <td>2.68468</td>\n",
       "      <td>0.907728</td>\n",
       "      <td>1.09624</td>\n",
       "      <td>2.17075</td>\n",
       "      <td>1.12407</td>\n",
       "      <td>0.950537</td>\n",
       "      <td>2.9252</td>\n",
       "      <td>1.4312</td>\n",
       "      <td>0.36473</td>\n",
       "      <td>3.17647</td>\n",
       "      <td>1.37106</td>\n",
       "      <td>0.402123</td>\n",
       "      <td>3.52969</td>\n",
       "      <td>1.33632</td>\n",
       "      <td>0.460906</td>\n",
       "    </tr>\n",
       "    <tr>\n",
       "      <th>11</th>\n",
       "      <td>NaN</td>\n",
       "      <td>0.00450152</td>\n",
       "      <td>0.930271</td>\n",
       "      <td>0.475216</td>\n",
       "      <td>2.44144</td>\n",
       "      <td>0.952771</td>\n",
       "      <td>0.33642</td>\n",
       "      <td>0.662407</td>\n",
       "      <td>0.0436538</td>\n",
       "      <td>0.259133</td>\n",
       "      <td>0.223661</td>\n",
       "      <td>0.298806</td>\n",
       "      <td>0.994776</td>\n",
       "      <td>0.436427</td>\n",
       "      <td>0.123186</td>\n",
       "      <td>0.677927</td>\n",
       "    </tr>\n",
       "    <tr>\n",
       "      <th>12</th>\n",
       "      <td>500hz</td>\n",
       "      <td>1.54684</td>\n",
       "      <td>0.879418</td>\n",
       "      <td>0.311657</td>\n",
       "      <td>1.45893</td>\n",
       "      <td>0.90733</td>\n",
       "      <td>0.676293</td>\n",
       "      <td>1.59209</td>\n",
       "      <td>1.39514</td>\n",
       "      <td>0.930103</td>\n",
       "      <td>1.96806</td>\n",
       "      <td>1.71593</td>\n",
       "      <td>0.400378</td>\n",
       "      <td>1.39491</td>\n",
       "      <td>1.46151</td>\n",
       "      <td>0.748787</td>\n",
       "    </tr>\n",
       "    <tr>\n",
       "      <th>13</th>\n",
       "      <td>NaN</td>\n",
       "      <td>1.70573</td>\n",
       "      <td>1.27079</td>\n",
       "      <td>0.947313</td>\n",
       "      <td>1.67798</td>\n",
       "      <td>1.10671</td>\n",
       "      <td>0.89966</td>\n",
       "      <td>2.30459</td>\n",
       "      <td>1.759</td>\n",
       "      <td>0.532085</td>\n",
       "      <td>2.15639</td>\n",
       "      <td>1.07448</td>\n",
       "      <td>0.790732</td>\n",
       "      <td>2.07652</td>\n",
       "      <td>1.71196</td>\n",
       "      <td>0.109085</td>\n",
       "    </tr>\n",
       "    <tr>\n",
       "      <th>14</th>\n",
       "      <td>NaN</td>\n",
       "      <td>1.88562</td>\n",
       "      <td>1.0019</td>\n",
       "      <td>0.303148</td>\n",
       "      <td>1.9928</td>\n",
       "      <td>1.62794</td>\n",
       "      <td>0.487399</td>\n",
       "      <td>1.51951</td>\n",
       "      <td>1.21221</td>\n",
       "      <td>0.820925</td>\n",
       "      <td>2.17338</td>\n",
       "      <td>0.981896</td>\n",
       "      <td>0.477477</td>\n",
       "      <td>1.65706</td>\n",
       "      <td>1.88413</td>\n",
       "      <td>0.680916</td>\n",
       "    </tr>\n",
       "  </tbody>\n",
       "</table>\n",
       "</div>"
      ],
      "text/plain": [
       "               0           1         2         3        4         5   \\\n",
       "0        Material  Material A       NaN       NaN      NaN       NaN   \n",
       "1   Material Size          5\"       NaN       NaN       4\"       NaN   \n",
       "2       Frequency       Alpha      Beta     Gamma    Alpha      Beta   \n",
       "3           100hz     1.63979   1.23064  0.546146   1.8024   1.20586   \n",
       "4             NaN     1.43973   1.08655   0.42743  2.03412   1.64013   \n",
       "5             NaN     1.72444   1.82838   1.03605   1.4679   1.16716   \n",
       "6             NaN     1.99982   1.27655  0.905647  2.11091     1.664   \n",
       "7             NaN     1.80882   1.05065  0.549558  2.51533  0.938052   \n",
       "8             NaN     2.77804   1.42155  0.481491  2.47751  0.980929   \n",
       "9             NaN     2.12713   1.59421  0.921837   2.5345   1.01763   \n",
       "10            NaN     2.68468  0.907728   1.09624  2.17075   1.12407   \n",
       "11            NaN  0.00450152  0.930271  0.475216  2.44144  0.952771   \n",
       "12          500hz     1.54684  0.879418  0.311657  1.45893   0.90733   \n",
       "13            NaN     1.70573   1.27079  0.947313  1.67798   1.10671   \n",
       "14            NaN     1.88562    1.0019  0.303148   1.9928   1.62794   \n",
       "\n",
       "          6         7          8         9         10        11        12  \\\n",
       "0        NaN       NaN        NaN       NaN       NaN       NaN       NaN   \n",
       "1        NaN        3\"        NaN       NaN        2\"       NaN       NaN   \n",
       "2      Gamma     Alpha       Beta     Gamma     Alpha      Beta     Gamma   \n",
       "3   0.908674   1.47175    1.02788  0.202751   1.69438   1.79287  0.265586   \n",
       "4   0.869098   1.72981    1.67681  0.829409   1.71648   1.53832  0.749897   \n",
       "5   0.532573   1.96699   0.957607  0.787029   1.61331   1.81509  0.977464   \n",
       "6   0.830074   2.33153    1.71367  0.818765   2.22315   1.24828  0.685668   \n",
       "7   0.124567   2.15947    1.79579  0.535714   2.01288   0.95355   1.01142   \n",
       "8   0.456643   2.15593     1.0547  0.791149   2.21864   1.51322  0.897828   \n",
       "9   0.974847   2.36729   0.998858  0.395988   2.53525  0.985286   0.20583   \n",
       "10  0.950537    2.9252     1.4312   0.36473   3.17647   1.37106  0.402123   \n",
       "11   0.33642  0.662407  0.0436538  0.259133  0.223661  0.298806  0.994776   \n",
       "12  0.676293   1.59209    1.39514  0.930103   1.96806   1.71593  0.400378   \n",
       "13   0.89966   2.30459      1.759  0.532085   2.15639   1.07448  0.790732   \n",
       "14  0.487399   1.51951    1.21221  0.820925   2.17338  0.981896  0.477477   \n",
       "\n",
       "          13        14        15  \n",
       "0        NaN       NaN       NaN  \n",
       "1         1\"       NaN       NaN  \n",
       "2      Alpha      Beta     Gamma  \n",
       "3    1.61428   1.11722  0.697438  \n",
       "4    1.51539   1.46082   0.91155  \n",
       "5    2.10348   1.39297  0.340688  \n",
       "6    2.36889   1.33599  0.515974  \n",
       "7    2.45643   1.94351  0.416589  \n",
       "8    2.60217    1.6912  0.856099  \n",
       "9    2.92889   1.64869  0.424832  \n",
       "10   3.52969   1.33632  0.460906  \n",
       "11  0.436427  0.123186  0.677927  \n",
       "12   1.39491   1.46151  0.748787  \n",
       "13   2.07652   1.71196  0.109085  \n",
       "14   1.65706   1.88413  0.680916  "
      ]
     },
     "execution_count": 28,
     "metadata": {},
     "output_type": "execute_result"
    }
   ],
   "source": [
    "# take a peak at the data we want to loop\n",
    "config_a.head(15)[list(range(16))]"
   ]
  },
  {
   "cell_type": "code",
   "execution_count": 29,
   "metadata": {},
   "outputs": [],
   "source": [
    "# Defining skip parameters unique to the source excel to allow us to do looping\n",
    "col_skip = 1 # our first data is in col 1, row 3\n",
    "row_skip = 3\n",
    "row_frq_set = 9 # new frequency every 9 rows\n",
    "col_obs_set = 3 # new size every 3 observation columns\n",
    "col_mat_set = col_obs_set * len(sizes) # new material every 5 set of 5 observation"
   ]
  },
  {
   "cell_type": "markdown",
   "metadata": {},
   "source": [
    "### 1. Try for one set of data"
   ]
  },
  {
   "cell_type": "code",
   "execution_count": 30,
   "metadata": {},
   "outputs": [
    {
     "data": {
      "text/html": [
       "<div>\n",
       "<style scoped>\n",
       "    .dataframe tbody tr th:only-of-type {\n",
       "        vertical-align: middle;\n",
       "    }\n",
       "\n",
       "    .dataframe tbody tr th {\n",
       "        vertical-align: top;\n",
       "    }\n",
       "\n",
       "    .dataframe thead th {\n",
       "        text-align: right;\n",
       "    }\n",
       "</style>\n",
       "<table border=\"1\" class=\"dataframe\">\n",
       "  <thead>\n",
       "    <tr style=\"text-align: right;\">\n",
       "      <th></th>\n",
       "      <th>Alpha</th>\n",
       "      <th>Beta</th>\n",
       "      <th>Gamma</th>\n",
       "    </tr>\n",
       "  </thead>\n",
       "  <tbody>\n",
       "    <tr>\n",
       "      <th>3</th>\n",
       "      <td>1.63979</td>\n",
       "      <td>1.23064</td>\n",
       "      <td>0.546146</td>\n",
       "    </tr>\n",
       "    <tr>\n",
       "      <th>4</th>\n",
       "      <td>1.43973</td>\n",
       "      <td>1.08655</td>\n",
       "      <td>0.42743</td>\n",
       "    </tr>\n",
       "    <tr>\n",
       "      <th>5</th>\n",
       "      <td>1.72444</td>\n",
       "      <td>1.82838</td>\n",
       "      <td>1.03605</td>\n",
       "    </tr>\n",
       "    <tr>\n",
       "      <th>6</th>\n",
       "      <td>1.99982</td>\n",
       "      <td>1.27655</td>\n",
       "      <td>0.905647</td>\n",
       "    </tr>\n",
       "    <tr>\n",
       "      <th>7</th>\n",
       "      <td>1.80882</td>\n",
       "      <td>1.05065</td>\n",
       "      <td>0.549558</td>\n",
       "    </tr>\n",
       "    <tr>\n",
       "      <th>8</th>\n",
       "      <td>2.77804</td>\n",
       "      <td>1.42155</td>\n",
       "      <td>0.481491</td>\n",
       "    </tr>\n",
       "    <tr>\n",
       "      <th>9</th>\n",
       "      <td>2.12713</td>\n",
       "      <td>1.59421</td>\n",
       "      <td>0.921837</td>\n",
       "    </tr>\n",
       "    <tr>\n",
       "      <th>10</th>\n",
       "      <td>2.68468</td>\n",
       "      <td>0.907728</td>\n",
       "      <td>1.09624</td>\n",
       "    </tr>\n",
       "    <tr>\n",
       "      <th>11</th>\n",
       "      <td>0.00450152</td>\n",
       "      <td>0.930271</td>\n",
       "      <td>0.475216</td>\n",
       "    </tr>\n",
       "  </tbody>\n",
       "</table>\n",
       "</div>"
      ],
      "text/plain": [
       "         Alpha      Beta     Gamma\n",
       "3      1.63979   1.23064  0.546146\n",
       "4      1.43973   1.08655   0.42743\n",
       "5      1.72444   1.82838   1.03605\n",
       "6      1.99982   1.27655  0.905647\n",
       "7      1.80882   1.05065  0.549558\n",
       "8      2.77804   1.42155  0.481491\n",
       "9      2.12713   1.59421  0.921837\n",
       "10     2.68468  0.907728   1.09624\n",
       "11  0.00450152  0.930271  0.475216"
      ]
     },
     "execution_count": 30,
     "metadata": {},
     "output_type": "execute_result"
    }
   ],
   "source": [
    "# try extract one set of data for example Config A, Material A, 100hz, 5\"\n",
    "temp_df = config_a.iloc[row_skip:row_skip + row_frq_set,col_skip:col_skip + col_obs_set].copy()\n",
    "temp_df.columns = observations\n",
    "temp_df"
   ]
  },
  {
   "cell_type": "code",
   "execution_count": 31,
   "metadata": {},
   "outputs": [
    {
     "data": {
      "text/plain": [
       "(['Configuration', 'Material', 'Frequency', 'Size'], ['Config A', 'A', 100, 5])"
      ]
     },
     "execution_count": 31,
     "metadata": {},
     "output_type": "execute_result"
    }
   ],
   "source": [
    "# assign all needed dimension to the df\n",
    "temp_dimension = [\"Config A\", \"A\", 100, 5]\n",
    "dimensions, temp_dimension"
   ]
  },
  {
   "cell_type": "code",
   "execution_count": 32,
   "metadata": {},
   "outputs": [
    {
     "data": {
      "text/html": [
       "<div>\n",
       "<style scoped>\n",
       "    .dataframe tbody tr th:only-of-type {\n",
       "        vertical-align: middle;\n",
       "    }\n",
       "\n",
       "    .dataframe tbody tr th {\n",
       "        vertical-align: top;\n",
       "    }\n",
       "\n",
       "    .dataframe thead th {\n",
       "        text-align: right;\n",
       "    }\n",
       "</style>\n",
       "<table border=\"1\" class=\"dataframe\">\n",
       "  <thead>\n",
       "    <tr style=\"text-align: right;\">\n",
       "      <th></th>\n",
       "      <th>Alpha</th>\n",
       "      <th>Beta</th>\n",
       "      <th>Gamma</th>\n",
       "      <th>Configuration</th>\n",
       "      <th>Material</th>\n",
       "      <th>Frequency</th>\n",
       "      <th>Size</th>\n",
       "    </tr>\n",
       "  </thead>\n",
       "  <tbody>\n",
       "    <tr>\n",
       "      <th>3</th>\n",
       "      <td>1.63979</td>\n",
       "      <td>1.23064</td>\n",
       "      <td>0.546146</td>\n",
       "      <td>Config A</td>\n",
       "      <td>A</td>\n",
       "      <td>100</td>\n",
       "      <td>5</td>\n",
       "    </tr>\n",
       "    <tr>\n",
       "      <th>4</th>\n",
       "      <td>1.43973</td>\n",
       "      <td>1.08655</td>\n",
       "      <td>0.42743</td>\n",
       "      <td>Config A</td>\n",
       "      <td>A</td>\n",
       "      <td>100</td>\n",
       "      <td>5</td>\n",
       "    </tr>\n",
       "    <tr>\n",
       "      <th>5</th>\n",
       "      <td>1.72444</td>\n",
       "      <td>1.82838</td>\n",
       "      <td>1.03605</td>\n",
       "      <td>Config A</td>\n",
       "      <td>A</td>\n",
       "      <td>100</td>\n",
       "      <td>5</td>\n",
       "    </tr>\n",
       "    <tr>\n",
       "      <th>6</th>\n",
       "      <td>1.99982</td>\n",
       "      <td>1.27655</td>\n",
       "      <td>0.905647</td>\n",
       "      <td>Config A</td>\n",
       "      <td>A</td>\n",
       "      <td>100</td>\n",
       "      <td>5</td>\n",
       "    </tr>\n",
       "    <tr>\n",
       "      <th>7</th>\n",
       "      <td>1.80882</td>\n",
       "      <td>1.05065</td>\n",
       "      <td>0.549558</td>\n",
       "      <td>Config A</td>\n",
       "      <td>A</td>\n",
       "      <td>100</td>\n",
       "      <td>5</td>\n",
       "    </tr>\n",
       "    <tr>\n",
       "      <th>8</th>\n",
       "      <td>2.77804</td>\n",
       "      <td>1.42155</td>\n",
       "      <td>0.481491</td>\n",
       "      <td>Config A</td>\n",
       "      <td>A</td>\n",
       "      <td>100</td>\n",
       "      <td>5</td>\n",
       "    </tr>\n",
       "    <tr>\n",
       "      <th>9</th>\n",
       "      <td>2.12713</td>\n",
       "      <td>1.59421</td>\n",
       "      <td>0.921837</td>\n",
       "      <td>Config A</td>\n",
       "      <td>A</td>\n",
       "      <td>100</td>\n",
       "      <td>5</td>\n",
       "    </tr>\n",
       "    <tr>\n",
       "      <th>10</th>\n",
       "      <td>2.68468</td>\n",
       "      <td>0.907728</td>\n",
       "      <td>1.09624</td>\n",
       "      <td>Config A</td>\n",
       "      <td>A</td>\n",
       "      <td>100</td>\n",
       "      <td>5</td>\n",
       "    </tr>\n",
       "    <tr>\n",
       "      <th>11</th>\n",
       "      <td>0.00450152</td>\n",
       "      <td>0.930271</td>\n",
       "      <td>0.475216</td>\n",
       "      <td>Config A</td>\n",
       "      <td>A</td>\n",
       "      <td>100</td>\n",
       "      <td>5</td>\n",
       "    </tr>\n",
       "  </tbody>\n",
       "</table>\n",
       "</div>"
      ],
      "text/plain": [
       "         Alpha      Beta     Gamma Configuration Material  Frequency  Size\n",
       "3      1.63979   1.23064  0.546146      Config A        A        100     5\n",
       "4      1.43973   1.08655   0.42743      Config A        A        100     5\n",
       "5      1.72444   1.82838   1.03605      Config A        A        100     5\n",
       "6      1.99982   1.27655  0.905647      Config A        A        100     5\n",
       "7      1.80882   1.05065  0.549558      Config A        A        100     5\n",
       "8      2.77804   1.42155  0.481491      Config A        A        100     5\n",
       "9      2.12713   1.59421  0.921837      Config A        A        100     5\n",
       "10     2.68468  0.907728   1.09624      Config A        A        100     5\n",
       "11  0.00450152  0.930271  0.475216      Config A        A        100     5"
      ]
     },
     "execution_count": 32,
     "metadata": {},
     "output_type": "execute_result"
    }
   ],
   "source": [
    "for i,j in zip(dimensions,temp_dimension): # using zip to combine two list\n",
    "    temp_df[i] = j\n",
    "    \n",
    "temp_df"
   ]
  },
  {
   "cell_type": "code",
   "execution_count": 33,
   "metadata": {},
   "outputs": [
    {
     "data": {
      "text/html": [
       "<div>\n",
       "<style scoped>\n",
       "    .dataframe tbody tr th:only-of-type {\n",
       "        vertical-align: middle;\n",
       "    }\n",
       "\n",
       "    .dataframe tbody tr th {\n",
       "        vertical-align: top;\n",
       "    }\n",
       "\n",
       "    .dataframe thead th {\n",
       "        text-align: right;\n",
       "    }\n",
       "</style>\n",
       "<table border=\"1\" class=\"dataframe\">\n",
       "  <thead>\n",
       "    <tr style=\"text-align: right;\">\n",
       "      <th></th>\n",
       "      <th>0</th>\n",
       "      <th>1</th>\n",
       "      <th>2</th>\n",
       "      <th>3</th>\n",
       "      <th>4</th>\n",
       "      <th>5</th>\n",
       "      <th>6</th>\n",
       "      <th>7</th>\n",
       "      <th>8</th>\n",
       "      <th>9</th>\n",
       "      <th>10</th>\n",
       "      <th>11</th>\n",
       "      <th>12</th>\n",
       "      <th>13</th>\n",
       "      <th>14</th>\n",
       "      <th>15</th>\n",
       "    </tr>\n",
       "  </thead>\n",
       "  <tbody>\n",
       "    <tr>\n",
       "      <th>0</th>\n",
       "      <td>Material</td>\n",
       "      <td>Material A</td>\n",
       "      <td>NaN</td>\n",
       "      <td>NaN</td>\n",
       "      <td>NaN</td>\n",
       "      <td>NaN</td>\n",
       "      <td>NaN</td>\n",
       "      <td>NaN</td>\n",
       "      <td>NaN</td>\n",
       "      <td>NaN</td>\n",
       "      <td>NaN</td>\n",
       "      <td>NaN</td>\n",
       "      <td>NaN</td>\n",
       "      <td>NaN</td>\n",
       "      <td>NaN</td>\n",
       "      <td>NaN</td>\n",
       "    </tr>\n",
       "    <tr>\n",
       "      <th>1</th>\n",
       "      <td>Material Size</td>\n",
       "      <td>5\"</td>\n",
       "      <td>NaN</td>\n",
       "      <td>NaN</td>\n",
       "      <td>4\"</td>\n",
       "      <td>NaN</td>\n",
       "      <td>NaN</td>\n",
       "      <td>3\"</td>\n",
       "      <td>NaN</td>\n",
       "      <td>NaN</td>\n",
       "      <td>2\"</td>\n",
       "      <td>NaN</td>\n",
       "      <td>NaN</td>\n",
       "      <td>1\"</td>\n",
       "      <td>NaN</td>\n",
       "      <td>NaN</td>\n",
       "    </tr>\n",
       "    <tr>\n",
       "      <th>2</th>\n",
       "      <td>Frequency</td>\n",
       "      <td>Alpha</td>\n",
       "      <td>Beta</td>\n",
       "      <td>Gamma</td>\n",
       "      <td>Alpha</td>\n",
       "      <td>Beta</td>\n",
       "      <td>Gamma</td>\n",
       "      <td>Alpha</td>\n",
       "      <td>Beta</td>\n",
       "      <td>Gamma</td>\n",
       "      <td>Alpha</td>\n",
       "      <td>Beta</td>\n",
       "      <td>Gamma</td>\n",
       "      <td>Alpha</td>\n",
       "      <td>Beta</td>\n",
       "      <td>Gamma</td>\n",
       "    </tr>\n",
       "    <tr>\n",
       "      <th>3</th>\n",
       "      <td>100hz</td>\n",
       "      <td>1.63979</td>\n",
       "      <td>1.23064</td>\n",
       "      <td>0.546146</td>\n",
       "      <td>1.8024</td>\n",
       "      <td>1.20586</td>\n",
       "      <td>0.908674</td>\n",
       "      <td>1.47175</td>\n",
       "      <td>1.02788</td>\n",
       "      <td>0.202751</td>\n",
       "      <td>1.69438</td>\n",
       "      <td>1.79287</td>\n",
       "      <td>0.265586</td>\n",
       "      <td>1.61428</td>\n",
       "      <td>1.11722</td>\n",
       "      <td>0.697438</td>\n",
       "    </tr>\n",
       "    <tr>\n",
       "      <th>4</th>\n",
       "      <td>NaN</td>\n",
       "      <td>1.43973</td>\n",
       "      <td>1.08655</td>\n",
       "      <td>0.42743</td>\n",
       "      <td>2.03412</td>\n",
       "      <td>1.64013</td>\n",
       "      <td>0.869098</td>\n",
       "      <td>1.72981</td>\n",
       "      <td>1.67681</td>\n",
       "      <td>0.829409</td>\n",
       "      <td>1.71648</td>\n",
       "      <td>1.53832</td>\n",
       "      <td>0.749897</td>\n",
       "      <td>1.51539</td>\n",
       "      <td>1.46082</td>\n",
       "      <td>0.91155</td>\n",
       "    </tr>\n",
       "    <tr>\n",
       "      <th>5</th>\n",
       "      <td>NaN</td>\n",
       "      <td>1.72444</td>\n",
       "      <td>1.82838</td>\n",
       "      <td>1.03605</td>\n",
       "      <td>1.4679</td>\n",
       "      <td>1.16716</td>\n",
       "      <td>0.532573</td>\n",
       "      <td>1.96699</td>\n",
       "      <td>0.957607</td>\n",
       "      <td>0.787029</td>\n",
       "      <td>1.61331</td>\n",
       "      <td>1.81509</td>\n",
       "      <td>0.977464</td>\n",
       "      <td>2.10348</td>\n",
       "      <td>1.39297</td>\n",
       "      <td>0.340688</td>\n",
       "    </tr>\n",
       "    <tr>\n",
       "      <th>6</th>\n",
       "      <td>NaN</td>\n",
       "      <td>1.99982</td>\n",
       "      <td>1.27655</td>\n",
       "      <td>0.905647</td>\n",
       "      <td>2.11091</td>\n",
       "      <td>1.664</td>\n",
       "      <td>0.830074</td>\n",
       "      <td>2.33153</td>\n",
       "      <td>1.71367</td>\n",
       "      <td>0.818765</td>\n",
       "      <td>2.22315</td>\n",
       "      <td>1.24828</td>\n",
       "      <td>0.685668</td>\n",
       "      <td>2.36889</td>\n",
       "      <td>1.33599</td>\n",
       "      <td>0.515974</td>\n",
       "    </tr>\n",
       "    <tr>\n",
       "      <th>7</th>\n",
       "      <td>NaN</td>\n",
       "      <td>1.80882</td>\n",
       "      <td>1.05065</td>\n",
       "      <td>0.549558</td>\n",
       "      <td>2.51533</td>\n",
       "      <td>0.938052</td>\n",
       "      <td>0.124567</td>\n",
       "      <td>2.15947</td>\n",
       "      <td>1.79579</td>\n",
       "      <td>0.535714</td>\n",
       "      <td>2.01288</td>\n",
       "      <td>0.95355</td>\n",
       "      <td>1.01142</td>\n",
       "      <td>2.45643</td>\n",
       "      <td>1.94351</td>\n",
       "      <td>0.416589</td>\n",
       "    </tr>\n",
       "    <tr>\n",
       "      <th>8</th>\n",
       "      <td>NaN</td>\n",
       "      <td>2.77804</td>\n",
       "      <td>1.42155</td>\n",
       "      <td>0.481491</td>\n",
       "      <td>2.47751</td>\n",
       "      <td>0.980929</td>\n",
       "      <td>0.456643</td>\n",
       "      <td>2.15593</td>\n",
       "      <td>1.0547</td>\n",
       "      <td>0.791149</td>\n",
       "      <td>2.21864</td>\n",
       "      <td>1.51322</td>\n",
       "      <td>0.897828</td>\n",
       "      <td>2.60217</td>\n",
       "      <td>1.6912</td>\n",
       "      <td>0.856099</td>\n",
       "    </tr>\n",
       "    <tr>\n",
       "      <th>9</th>\n",
       "      <td>NaN</td>\n",
       "      <td>2.12713</td>\n",
       "      <td>1.59421</td>\n",
       "      <td>0.921837</td>\n",
       "      <td>2.5345</td>\n",
       "      <td>1.01763</td>\n",
       "      <td>0.974847</td>\n",
       "      <td>2.36729</td>\n",
       "      <td>0.998858</td>\n",
       "      <td>0.395988</td>\n",
       "      <td>2.53525</td>\n",
       "      <td>0.985286</td>\n",
       "      <td>0.20583</td>\n",
       "      <td>2.92889</td>\n",
       "      <td>1.64869</td>\n",
       "      <td>0.424832</td>\n",
       "    </tr>\n",
       "    <tr>\n",
       "      <th>10</th>\n",
       "      <td>NaN</td>\n",
       "      <td>2.68468</td>\n",
       "      <td>0.907728</td>\n",
       "      <td>1.09624</td>\n",
       "      <td>2.17075</td>\n",
       "      <td>1.12407</td>\n",
       "      <td>0.950537</td>\n",
       "      <td>2.9252</td>\n",
       "      <td>1.4312</td>\n",
       "      <td>0.36473</td>\n",
       "      <td>3.17647</td>\n",
       "      <td>1.37106</td>\n",
       "      <td>0.402123</td>\n",
       "      <td>3.52969</td>\n",
       "      <td>1.33632</td>\n",
       "      <td>0.460906</td>\n",
       "    </tr>\n",
       "    <tr>\n",
       "      <th>11</th>\n",
       "      <td>NaN</td>\n",
       "      <td>0.00450152</td>\n",
       "      <td>0.930271</td>\n",
       "      <td>0.475216</td>\n",
       "      <td>2.44144</td>\n",
       "      <td>0.952771</td>\n",
       "      <td>0.33642</td>\n",
       "      <td>0.662407</td>\n",
       "      <td>0.0436538</td>\n",
       "      <td>0.259133</td>\n",
       "      <td>0.223661</td>\n",
       "      <td>0.298806</td>\n",
       "      <td>0.994776</td>\n",
       "      <td>0.436427</td>\n",
       "      <td>0.123186</td>\n",
       "      <td>0.677927</td>\n",
       "    </tr>\n",
       "    <tr>\n",
       "      <th>12</th>\n",
       "      <td>500hz</td>\n",
       "      <td>1.54684</td>\n",
       "      <td>0.879418</td>\n",
       "      <td>0.311657</td>\n",
       "      <td>1.45893</td>\n",
       "      <td>0.90733</td>\n",
       "      <td>0.676293</td>\n",
       "      <td>1.59209</td>\n",
       "      <td>1.39514</td>\n",
       "      <td>0.930103</td>\n",
       "      <td>1.96806</td>\n",
       "      <td>1.71593</td>\n",
       "      <td>0.400378</td>\n",
       "      <td>1.39491</td>\n",
       "      <td>1.46151</td>\n",
       "      <td>0.748787</td>\n",
       "    </tr>\n",
       "    <tr>\n",
       "      <th>13</th>\n",
       "      <td>NaN</td>\n",
       "      <td>1.70573</td>\n",
       "      <td>1.27079</td>\n",
       "      <td>0.947313</td>\n",
       "      <td>1.67798</td>\n",
       "      <td>1.10671</td>\n",
       "      <td>0.89966</td>\n",
       "      <td>2.30459</td>\n",
       "      <td>1.759</td>\n",
       "      <td>0.532085</td>\n",
       "      <td>2.15639</td>\n",
       "      <td>1.07448</td>\n",
       "      <td>0.790732</td>\n",
       "      <td>2.07652</td>\n",
       "      <td>1.71196</td>\n",
       "      <td>0.109085</td>\n",
       "    </tr>\n",
       "    <tr>\n",
       "      <th>14</th>\n",
       "      <td>NaN</td>\n",
       "      <td>1.88562</td>\n",
       "      <td>1.0019</td>\n",
       "      <td>0.303148</td>\n",
       "      <td>1.9928</td>\n",
       "      <td>1.62794</td>\n",
       "      <td>0.487399</td>\n",
       "      <td>1.51951</td>\n",
       "      <td>1.21221</td>\n",
       "      <td>0.820925</td>\n",
       "      <td>2.17338</td>\n",
       "      <td>0.981896</td>\n",
       "      <td>0.477477</td>\n",
       "      <td>1.65706</td>\n",
       "      <td>1.88413</td>\n",
       "      <td>0.680916</td>\n",
       "    </tr>\n",
       "  </tbody>\n",
       "</table>\n",
       "</div>"
      ],
      "text/plain": [
       "               0           1         2         3        4         5   \\\n",
       "0        Material  Material A       NaN       NaN      NaN       NaN   \n",
       "1   Material Size          5\"       NaN       NaN       4\"       NaN   \n",
       "2       Frequency       Alpha      Beta     Gamma    Alpha      Beta   \n",
       "3           100hz     1.63979   1.23064  0.546146   1.8024   1.20586   \n",
       "4             NaN     1.43973   1.08655   0.42743  2.03412   1.64013   \n",
       "5             NaN     1.72444   1.82838   1.03605   1.4679   1.16716   \n",
       "6             NaN     1.99982   1.27655  0.905647  2.11091     1.664   \n",
       "7             NaN     1.80882   1.05065  0.549558  2.51533  0.938052   \n",
       "8             NaN     2.77804   1.42155  0.481491  2.47751  0.980929   \n",
       "9             NaN     2.12713   1.59421  0.921837   2.5345   1.01763   \n",
       "10            NaN     2.68468  0.907728   1.09624  2.17075   1.12407   \n",
       "11            NaN  0.00450152  0.930271  0.475216  2.44144  0.952771   \n",
       "12          500hz     1.54684  0.879418  0.311657  1.45893   0.90733   \n",
       "13            NaN     1.70573   1.27079  0.947313  1.67798   1.10671   \n",
       "14            NaN     1.88562    1.0019  0.303148   1.9928   1.62794   \n",
       "\n",
       "          6         7          8         9         10        11        12  \\\n",
       "0        NaN       NaN        NaN       NaN       NaN       NaN       NaN   \n",
       "1        NaN        3\"        NaN       NaN        2\"       NaN       NaN   \n",
       "2      Gamma     Alpha       Beta     Gamma     Alpha      Beta     Gamma   \n",
       "3   0.908674   1.47175    1.02788  0.202751   1.69438   1.79287  0.265586   \n",
       "4   0.869098   1.72981    1.67681  0.829409   1.71648   1.53832  0.749897   \n",
       "5   0.532573   1.96699   0.957607  0.787029   1.61331   1.81509  0.977464   \n",
       "6   0.830074   2.33153    1.71367  0.818765   2.22315   1.24828  0.685668   \n",
       "7   0.124567   2.15947    1.79579  0.535714   2.01288   0.95355   1.01142   \n",
       "8   0.456643   2.15593     1.0547  0.791149   2.21864   1.51322  0.897828   \n",
       "9   0.974847   2.36729   0.998858  0.395988   2.53525  0.985286   0.20583   \n",
       "10  0.950537    2.9252     1.4312   0.36473   3.17647   1.37106  0.402123   \n",
       "11   0.33642  0.662407  0.0436538  0.259133  0.223661  0.298806  0.994776   \n",
       "12  0.676293   1.59209    1.39514  0.930103   1.96806   1.71593  0.400378   \n",
       "13   0.89966   2.30459      1.759  0.532085   2.15639   1.07448  0.790732   \n",
       "14  0.487399   1.51951    1.21221  0.820925   2.17338  0.981896  0.477477   \n",
       "\n",
       "          13        14        15  \n",
       "0        NaN       NaN       NaN  \n",
       "1         1\"       NaN       NaN  \n",
       "2      Alpha      Beta     Gamma  \n",
       "3    1.61428   1.11722  0.697438  \n",
       "4    1.51539   1.46082   0.91155  \n",
       "5    2.10348   1.39297  0.340688  \n",
       "6    2.36889   1.33599  0.515974  \n",
       "7    2.45643   1.94351  0.416589  \n",
       "8    2.60217    1.6912  0.856099  \n",
       "9    2.92889   1.64869  0.424832  \n",
       "10   3.52969   1.33632  0.460906  \n",
       "11  0.436427  0.123186  0.677927  \n",
       "12   1.39491   1.46151  0.748787  \n",
       "13   2.07652   1.71196  0.109085  \n",
       "14   1.65706   1.88413  0.680916  "
      ]
     },
     "execution_count": 33,
     "metadata": {},
     "output_type": "execute_result"
    }
   ],
   "source": [
    "# take a peak at the data we want to loop\n",
    "config_a.head(15)[list(range(16))]"
   ]
  },
  {
   "cell_type": "markdown",
   "metadata": {},
   "source": [
    "### 2. Now repeat for all"
   ]
  },
  {
   "cell_type": "code",
   "execution_count": 34,
   "metadata": {},
   "outputs": [
    {
     "name": "stdout",
     "output_type": "stream",
     "text": [
      "These are for debugging purposes\n",
      "\n",
      "Configuration: Config A\n",
      "Material: A\n",
      "Frequency: 100\n",
      "Size: 5   Row 3:12,   Col 1:4\n",
      "Size: 4   Row 3:12,   Col 4:7\n",
      "Size: 3   Row 3:12,   Col 7:10\n",
      "Size: 2   Row 3:12,   Col 10:13\n",
      "Size: 1   Row 3:12,   Col 13:16\n",
      "Frequency: 500\n",
      "Size: 5   Row 12:21,   Col 1:4\n",
      "Size: 4   Row 12:21,   Col 4:7\n",
      "Size: 3   Row 12:21,   Col 7:10\n",
      "Size: 2   Row 12:21,   Col 10:13\n",
      "Size: 1   Row 12:21,   Col 13:16\n",
      "Material: Bbb\n",
      "Frequency: 100\n",
      "Size: 5   Row 3:12,   Col 16:19\n",
      "Size: 4   Row 3:12,   Col 19:22\n",
      "Size: 3   Row 3:12,   Col 22:25\n",
      "Size: 2   Row 3:12,   Col 25:28\n",
      "Size: 1   Row 3:12,   Col 28:31\n",
      "Frequency: 500\n",
      "Size: 5   Row 12:21,   Col 16:19\n",
      "Size: 4   Row 12:21,   Col 19:22\n",
      "Size: 3   Row 12:21,   Col 22:25\n",
      "Size: 2   Row 12:21,   Col 25:28\n",
      "Size: 1   Row 12:21,   Col 28:31\n",
      "\n",
      "Configuration: Config B\n",
      "Material: A\n",
      "Frequency: 100\n",
      "Size: 5   Row 3:12,   Col 1:4\n",
      "Size: 4   Row 3:12,   Col 4:7\n",
      "Size: 3   Row 3:12,   Col 7:10\n",
      "Size: 2   Row 3:12,   Col 10:13\n",
      "Size: 1   Row 3:12,   Col 13:16\n",
      "Frequency: 500\n",
      "Size: 5   Row 12:21,   Col 1:4\n",
      "Size: 4   Row 12:21,   Col 4:7\n",
      "Size: 3   Row 12:21,   Col 7:10\n",
      "Size: 2   Row 12:21,   Col 10:13\n",
      "Size: 1   Row 12:21,   Col 13:16\n",
      "Material: Bbb\n",
      "Frequency: 100\n",
      "Size: 5   Row 3:12,   Col 16:19\n",
      "Size: 4   Row 3:12,   Col 19:22\n",
      "Size: 3   Row 3:12,   Col 22:25\n",
      "Size: 2   Row 3:12,   Col 25:28\n",
      "Size: 1   Row 3:12,   Col 28:31\n",
      "Frequency: 500\n",
      "Size: 5   Row 12:21,   Col 16:19\n",
      "Size: 4   Row 12:21,   Col 19:22\n",
      "Size: 3   Row 12:21,   Col 22:25\n",
      "Size: 2   Row 12:21,   Col 25:28\n",
      "Size: 1   Row 12:21,   Col 28:31\n",
      "Finally have 360 rows in the data frame\n"
     ]
    }
   ],
   "source": [
    "# these are 5 layers of for loops. Try understand the meaning of set values i.e. col_mat_set, col_obs_set, row_frq_set \n",
    "print(\"These are for debugging purposes\")\n",
    "for config,source_df in zip(configs,[config_a,config_b]): # using zip to combine two list\n",
    "    print(f\"\\nConfiguration: {config}\")\n",
    "    start_col = col_skip # reset start column each sheet\n",
    "    start_row = row_skip # reset start row each sheet\n",
    "    \n",
    "    for imat,material in enumerate(materials): # using enumerate to automatically make list with index as first element\n",
    "        print(f\"Material: {material}\")\n",
    "        m_col = start_col + (col_mat_set * imat) # material repeating by columns, it is column's set of observation times number of sizes\n",
    "        \n",
    "        for ifreq,frequency in enumerate(frequencies):\n",
    "            print(f\"Frequency: {frequency}\")\n",
    "            row = start_row + (row_frq_set * ifreq) # frequency repeating by rows, it is row's set of frequency\n",
    "            \n",
    "            for isize,size in enumerate(sizes):\n",
    "                col = m_col + (col_obs_set * isize) #size repeating by column, it is column's set of observation\n",
    "                temp_df = source_df.iloc[row:row + row_frq_set,col:col + col_obs_set].copy()\n",
    "                print(f\"Size: {size}   Row {row}:{row + row_frq_set},   Col {col}:{col + col_obs_set}\")\n",
    "                temp_df.columns = observations # renaming the columns\n",
    "                temp_dim = [config,material,frequency,size]\n",
    "                \n",
    "                for key,value in zip(dimensions,temp_dim): # applying dimension to each observation row\n",
    "                    temp_df[key] = value\n",
    "\n",
    "                df = df.append(temp_df,ignore_index=True) # Appending dataset into the designed dataframe\n",
    "\n",
    "\n",
    "print(f\"Finally have {len(df)} rows in the data frame\")"
   ]
  },
  {
   "cell_type": "markdown",
   "metadata": {},
   "source": [
    "### 3. Check the result data frame"
   ]
  },
  {
   "cell_type": "code",
   "execution_count": 35,
   "metadata": {},
   "outputs": [],
   "source": [
    "# observation columns need to be converted to numeric\n",
    "for o in observations:\n",
    "    df[o] = pd.to_numeric(df[o])"
   ]
  },
  {
   "cell_type": "code",
   "execution_count": 36,
   "metadata": {},
   "outputs": [
    {
     "data": {
      "text/plain": [
       "Configuration     object\n",
       "Material          object\n",
       "Frequency         object\n",
       "Size              object\n",
       "Alpha            float64\n",
       "Beta             float64\n",
       "Gamma            float64\n",
       "dtype: object"
      ]
     },
     "execution_count": 36,
     "metadata": {},
     "output_type": "execute_result"
    }
   ],
   "source": [
    "df.dtypes"
   ]
  },
  {
   "cell_type": "code",
   "execution_count": 37,
   "metadata": {},
   "outputs": [
    {
     "data": {
      "text/html": [
       "<div>\n",
       "<style scoped>\n",
       "    .dataframe tbody tr th:only-of-type {\n",
       "        vertical-align: middle;\n",
       "    }\n",
       "\n",
       "    .dataframe tbody tr th {\n",
       "        vertical-align: top;\n",
       "    }\n",
       "\n",
       "    .dataframe thead th {\n",
       "        text-align: right;\n",
       "    }\n",
       "</style>\n",
       "<table border=\"1\" class=\"dataframe\">\n",
       "  <thead>\n",
       "    <tr style=\"text-align: right;\">\n",
       "      <th></th>\n",
       "      <th>Configuration</th>\n",
       "      <th>Material</th>\n",
       "      <th>Frequency</th>\n",
       "      <th>Size</th>\n",
       "    </tr>\n",
       "  </thead>\n",
       "  <tbody>\n",
       "    <tr>\n",
       "      <th>count</th>\n",
       "      <td>360</td>\n",
       "      <td>360</td>\n",
       "      <td>360</td>\n",
       "      <td>360</td>\n",
       "    </tr>\n",
       "    <tr>\n",
       "      <th>unique</th>\n",
       "      <td>2</td>\n",
       "      <td>2</td>\n",
       "      <td>2</td>\n",
       "      <td>5</td>\n",
       "    </tr>\n",
       "    <tr>\n",
       "      <th>top</th>\n",
       "      <td>Config A</td>\n",
       "      <td>Bbb</td>\n",
       "      <td>500</td>\n",
       "      <td>5</td>\n",
       "    </tr>\n",
       "    <tr>\n",
       "      <th>freq</th>\n",
       "      <td>180</td>\n",
       "      <td>180</td>\n",
       "      <td>180</td>\n",
       "      <td>72</td>\n",
       "    </tr>\n",
       "  </tbody>\n",
       "</table>\n",
       "</div>"
      ],
      "text/plain": [
       "       Configuration Material  Frequency  Size\n",
       "count            360      360        360   360\n",
       "unique             2        2          2     5\n",
       "top         Config A      Bbb        500     5\n",
       "freq             180      180        180    72"
      ]
     },
     "execution_count": 37,
     "metadata": {},
     "output_type": "execute_result"
    }
   ],
   "source": [
    "df[dimensions].describe()"
   ]
  },
  {
   "cell_type": "code",
   "execution_count": 38,
   "metadata": {},
   "outputs": [
    {
     "data": {
      "text/html": [
       "<div>\n",
       "<style scoped>\n",
       "    .dataframe tbody tr th:only-of-type {\n",
       "        vertical-align: middle;\n",
       "    }\n",
       "\n",
       "    .dataframe tbody tr th {\n",
       "        vertical-align: top;\n",
       "    }\n",
       "\n",
       "    .dataframe thead th {\n",
       "        text-align: right;\n",
       "    }\n",
       "</style>\n",
       "<table border=\"1\" class=\"dataframe\">\n",
       "  <thead>\n",
       "    <tr style=\"text-align: right;\">\n",
       "      <th></th>\n",
       "      <th>Alpha</th>\n",
       "      <th>Beta</th>\n",
       "      <th>Gamma</th>\n",
       "    </tr>\n",
       "  </thead>\n",
       "  <tbody>\n",
       "    <tr>\n",
       "      <th>count</th>\n",
       "      <td>360.000000</td>\n",
       "      <td>360.000000</td>\n",
       "      <td>360.000000</td>\n",
       "    </tr>\n",
       "    <tr>\n",
       "      <th>mean</th>\n",
       "      <td>1.796779</td>\n",
       "      <td>1.042887</td>\n",
       "      <td>0.369716</td>\n",
       "    </tr>\n",
       "    <tr>\n",
       "      <th>std</th>\n",
       "      <td>0.733766</td>\n",
       "      <td>0.510008</td>\n",
       "      <td>0.436495</td>\n",
       "    </tr>\n",
       "    <tr>\n",
       "      <th>min</th>\n",
       "      <td>-0.838419</td>\n",
       "      <td>-0.849760</td>\n",
       "      <td>-0.794108</td>\n",
       "    </tr>\n",
       "    <tr>\n",
       "      <th>25%</th>\n",
       "      <td>1.390516</td>\n",
       "      <td>0.759833</td>\n",
       "      <td>0.098660</td>\n",
       "    </tr>\n",
       "    <tr>\n",
       "      <th>50%</th>\n",
       "      <td>1.909020</td>\n",
       "      <td>1.081903</td>\n",
       "      <td>0.383929</td>\n",
       "    </tr>\n",
       "    <tr>\n",
       "      <th>75%</th>\n",
       "      <td>2.301140</td>\n",
       "      <td>1.417355</td>\n",
       "      <td>0.717282</td>\n",
       "    </tr>\n",
       "    <tr>\n",
       "      <th>max</th>\n",
       "      <td>3.529687</td>\n",
       "      <td>1.943512</td>\n",
       "      <td>1.211643</td>\n",
       "    </tr>\n",
       "  </tbody>\n",
       "</table>\n",
       "</div>"
      ],
      "text/plain": [
       "            Alpha        Beta       Gamma\n",
       "count  360.000000  360.000000  360.000000\n",
       "mean     1.796779    1.042887    0.369716\n",
       "std      0.733766    0.510008    0.436495\n",
       "min     -0.838419   -0.849760   -0.794108\n",
       "25%      1.390516    0.759833    0.098660\n",
       "50%      1.909020    1.081903    0.383929\n",
       "75%      2.301140    1.417355    0.717282\n",
       "max      3.529687    1.943512    1.211643"
      ]
     },
     "execution_count": 38,
     "metadata": {},
     "output_type": "execute_result"
    }
   ],
   "source": [
    "df[observations].describe()"
   ]
  },
  {
   "cell_type": "markdown",
   "metadata": {},
   "source": [
    "# D. Plotting & Visualization"
   ]
  },
  {
   "cell_type": "code",
   "execution_count": 39,
   "metadata": {},
   "outputs": [
    {
     "data": {
      "text/plain": [
       "<matplotlib.axes._subplots.AxesSubplot at 0x26667648348>"
      ]
     },
     "execution_count": 39,
     "metadata": {},
     "output_type": "execute_result"
    },
    {
     "data": {
      "image/png": "[encoded data removed]",
      "text/plain": [
       "<Figure size 432x288 with 1 Axes>"
      ]
     },
     "metadata": {
      "needs_background": "light"
     },
     "output_type": "display_data"
    }
   ],
   "source": [
    "df[observations].plot(title=\"This plot does not say anything meaningful\")"
   ]
  },
  {
   "cell_type": "markdown",
   "metadata": {},
   "source": [
    "### Plot all combination of observation for each material"
   ]
  },
  {
   "cell_type": "code",
   "execution_count": 40,
   "metadata": {},
   "outputs": [
    {
     "data": {
      "image/png": "[encoded data removed]",
      "text/plain": [
       "<Figure size 432x288 with 1 Axes>"
      ]
     },
     "metadata": {
      "needs_background": "light"
     },
     "output_type": "display_data"
    },
    {
     "data": {
      "image/png": "[encoded data removed]",
      "text/plain": [
       "<Figure size 432x288 with 1 Axes>"
      ]
     },
     "metadata": {
      "needs_background": "light"
     },
     "output_type": "display_data"
    },
    {
     "data": {
      "image/png": "[encoded data removed]",
      "text/plain": [
       "<Figure size 432x288 with 1 Axes>"
      ]
     },
     "metadata": {
      "needs_background": "light"
     },
     "output_type": "display_data"
    },
    {
     "data": {
      "image/png": "[encoded data removed]",
      "text/plain": [
       "<Figure size 432x288 with 1 Axes>"
      ]
     },
     "metadata": {
      "needs_background": "light"
     },
     "output_type": "display_data"
    },
    {
     "data": {
      "image/png": "[encoded data removed]",
      "text/plain": [
       "<Figure size 432x288 with 1 Axes>"
      ]
     },
     "metadata": {
      "needs_background": "light"
     },
     "output_type": "display_data"
    },
    {
     "data": {
      "image/png": "[encoded data removed]",
      "text/plain": [
       "<Figure size 432x288 with 1 Axes>"
      ]
     },
     "metadata": {
      "needs_background": "light"
     },
     "output_type": "display_data"
    }
   ],
   "source": [
    "for j,m in enumerate(materials,1):\n",
    "    for i,_ in enumerate(observations):\n",
    "        title = f\"Material {m}: {observations[i]} vs {observations[i-1]} {i+1} {j}\"\n",
    "        df[df[\"Material\"] == m].plot(x=observations[i],y=observations[i-1],kind = \"scatter\",title=title)"
   ]
  },
  {
   "cell_type": "markdown",
   "metadata": {},
   "source": [
    "### Rearrange the above plots with more compact visualization using matplotlib"
   ]
  },
  {
   "cell_type": "code",
   "execution_count": 41,
   "metadata": {},
   "outputs": [
    {
     "data": {
      "image/png": "[encoded data removed]",
      "text/plain": [
       "<Figure size 864x576 with 6 Axes>"
      ]
     },
     "metadata": {
      "needs_background": "light"
     },
     "output_type": "display_data"
    }
   ],
   "source": [
    "fig,axes = plt.subplots(2,3,figsize=(12,8))\n",
    "plt.subplots_adjust(wspace=0.3, hspace=0.4)\n",
    "for j,m in enumerate(materials,1):\n",
    "    for i,_ in enumerate(observations):\n",
    "        title = f\"Material {m}: {observations[i]} vs {observations[i-1]}\"\n",
    "        df[df[\"Material\"] == m].plot(x=observations[i],y=observations[i-1],kind = \"scatter\",title=title,ax=axes[j-1,i])"
   ]
  },
  {
   "cell_type": "markdown",
   "metadata": {},
   "source": [
    "# Wrap up"
   ]
  },
  {
   "cell_type": "markdown",
   "metadata": {},
   "source": [
    "I believe 5 skills promised in the beginning have been demonstrated here. \n",
    "\n",
    "1. [X] Loading excel files to pandas dataframe\n",
    "2. [X] Basics of slicing and other operation in pandas\n",
    "3. [X] Using simple regex as pattern searching tool\n",
    "4. [X] Creating a complex loops (5 layers deep)\n",
    "5. [X] Quick and dirty plotting\n",
    "6. [X] Python syntactic sugar such as list comprehenshion, enumerate, zip\n",
    "\n",
    "Hopefully readers may benefit from this example."
   ]
  },
  {
   "cell_type": "markdown",
   "metadata": {},
   "source": [
    "\n",
    "\n",
    "## About the Author:\n",
    "\n",
    "<a href=\"https://www.linkedin.com/in/alvin-alexander-75370943/\">Alvin Alexander</a> is a marathon runner with a strong inclination for scripting & programming while working in oil & gas industry. Chemist by training, data management by trade, learner by vocation.\n",
    "\n",
    "Also thanks to Airi for providing this original dataset for the original transformation\n",
    "\n",
    "<hr>\n",
    "\n",
    "Copyright &copy; 2020"
   ]
  }
 ],
 "metadata": {
  "kernelspec": {
   "display_name": "Python 3",
   "language": "python",
   "name": "python3"
  },
  "language_info": {
   "codemirror_mode": {
    "name": "ipython",
    "version": 3
   },
   "file_extension": ".py",
   "mimetype": "text/x-python",
   "name": "python",
   "nbconvert_exporter": "python",
   "pygments_lexer": "ipython3",
   "version": "3.7.7"
  }
 },
 "nbformat": 4,
 "nbformat_minor": 4
}
